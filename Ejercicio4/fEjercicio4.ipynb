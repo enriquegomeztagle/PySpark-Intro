{
 "cells": [
  {
   "cell_type": "markdown",
   "id": "30fc072c-b086-40b6-97ea-ecbf1de66e91",
   "metadata": {},
   "source": [
    "### Ejercicio 4 :\n",
    "- [x] Leer tabla de base de datos PostgreSQL mediante JDBC\n",
    "- [x] Escribir tabla en base de datos PostgreSQL mediante JDBC"
   ]
  },
  {
   "cell_type": "code",
   "execution_count": null,
   "id": "df4f0e52-e5be-46b9-a9d3-ec4738fd5f2e",
   "metadata": {},
   "outputs": [],
   "source": []
  }
 ],
 "metadata": {
  "kernelspec": {
   "display_name": "Python 3 (ipykernel)",
   "language": "python",
   "name": "python3"
  },
  "language_info": {
   "codemirror_mode": {
    "name": "ipython",
    "version": 3
   },
   "file_extension": ".py",
   "mimetype": "text/x-python",
   "name": "python",
   "nbconvert_exporter": "python",
   "pygments_lexer": "ipython3",
   "version": "3.11.5"
  }
 },
 "nbformat": 4,
 "nbformat_minor": 5
}
