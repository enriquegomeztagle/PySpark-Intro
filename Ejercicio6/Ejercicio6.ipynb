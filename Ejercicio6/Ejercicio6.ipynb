{
 "cells": [
  {
   "cell_type": "markdown",
   "id": "86677a59-914c-416d-ba63-297d371b367a",
   "metadata": {},
   "source": [
    "### Ejercicio 6 :\n",
    "- [x] Eliminar datos faltantes del DataFrame\n",
    "- [x] Rellenar datos faltantes en edad con 0"
   ]
  },
  {
   "cell_type": "code",
   "execution_count": 4,
   "id": "44f37800-9a76-4d07-9558-b17900d70473",
   "metadata": {},
   "outputs": [],
   "source": [
    "from pyspark.sql import SparkSession\n",
    "from pyspark.sql.types import StructType, StructField, StringType, IntegerType\n",
    "from pyspark.sql.functions import col, when"
   ]
  },
  {
   "cell_type": "code",
   "execution_count": 5,
   "id": "ff27a49f-f4ff-4d3a-a317-14df1512e419",
   "metadata": {},
   "outputs": [],
   "source": [
    "spark = SparkSession.builder \\\n",
    "    .appName(\"Exercise6\") \\\n",
    "    .getOrCreate()"
   ]
  },
  {
   "cell_type": "code",
   "execution_count": 6,
   "id": "420f70f0-d01b-4d8c-b412-32769f55ffa5",
   "metadata": {},
   "outputs": [
    {
     "name": "stdout",
     "output_type": "stream",
     "text": [
      "+--------+-----+------+\n",
      "|FullName|Years|Gender|\n",
      "+--------+-----+------+\n",
      "| Jasmine|   50|  NULL|\n",
      "| Shirley|    0|     F|\n",
      "|   David|   19|     M|\n",
      "|    Mark|   25|     M|\n",
      "|    John|    0|  NULL|\n",
      "+--------+-----+------+\n",
      "\n"
     ]
    }
   ],
   "source": [
    "df = spark.read.csv(\"ej5_csv\", header=True, inferSchema=True)\n",
    "df.show()"
   ]
  },
  {
   "cell_type": "code",
   "execution_count": 7,
   "id": "757c96c7-719c-4e29-a8b3-f60fcc3217b0",
   "metadata": {},
   "outputs": [
    {
     "name": "stdout",
     "output_type": "stream",
     "text": [
      "After deleting all null rows\n",
      "+--------+-----+------+\n",
      "|FullName|Years|Gender|\n",
      "+--------+-----+------+\n",
      "| Shirley|    0|     F|\n",
      "|   David|   19|     M|\n",
      "|    Mark|   25|     M|\n",
      "+--------+-----+------+\n",
      "\n"
     ]
    }
   ],
   "source": [
    "df_no_nulls = df.na.drop()\n",
    "print(\"After deleting all null rows\")\n",
    "df_no_nulls.show()"
   ]
  },
  {
   "cell_type": "code",
   "execution_count": 8,
   "id": "63aa18b5-9a19-45f3-bb72-c41706ea3967",
   "metadata": {},
   "outputs": [],
   "source": [
    "from pyspark.sql import SparkSession\n",
    "from pyspark.sql.types import StructType, StructField, StringType, IntegerType\n",
    "from pyspark.sql.functions import col, when\n",
    "import pandas as pd\n",
    "\n",
    "df_pd = df.toPandas()\n",
    "df_pd.loc[df_pd.index % 2 == 0, \"Years\"] = None\n",
    "\n",
    "df = spark.createDataFrame(df_pd)"
   ]
  },
  {
   "cell_type": "code",
   "execution_count": 9,
   "id": "5c31b796-d77c-45e5-ba7e-02546d7b78ca",
   "metadata": {},
   "outputs": [
    {
     "name": "stdout",
     "output_type": "stream",
     "text": [
      "Dataframe with nulls:\n"
     ]
    },
    {
     "name": "stderr",
     "output_type": "stream",
     "text": [
      "                                                                                \r"
     ]
    },
    {
     "name": "stdout",
     "output_type": "stream",
     "text": [
      "+--------+-----+------+\n",
      "|FullName|Years|Gender|\n",
      "+--------+-----+------+\n",
      "| Jasmine|  NaN|  NULL|\n",
      "| Shirley|  0.0|     F|\n",
      "|   David|  NaN|     M|\n",
      "|    Mark| 25.0|     M|\n",
      "|    John|  NaN|  NULL|\n",
      "+--------+-----+------+\n",
      "\n"
     ]
    }
   ],
   "source": [
    "print(\"Dataframe with nulls:\")\n",
    "df.show()"
   ]
  },
  {
   "cell_type": "code",
   "execution_count": 10,
   "id": "f49efd6b-b2b5-4031-a7a8-33b6279736dd",
   "metadata": {},
   "outputs": [
    {
     "name": "stdout",
     "output_type": "stream",
     "text": [
      "DataFrame con valores nulos en 'Years' reemplazados por 0:\n",
      "+--------+-----+------+\n",
      "|FullName|Years|Gender|\n",
      "+--------+-----+------+\n",
      "| Jasmine|  0.0|  NULL|\n",
      "| Shirley|  0.0|     F|\n",
      "|   David|  0.0|     M|\n",
      "|    Mark| 25.0|     M|\n",
      "|    John|  0.0|  NULL|\n",
      "+--------+-----+------+\n",
      "\n"
     ]
    }
   ],
   "source": [
    "df_filled = df.na.fill({\"Years\": 0})\n",
    "print(\"DataFrame con valores nulos en 'Years' reemplazados por 0:\")\n",
    "df_filled.show()"
   ]
  },
  {
   "cell_type": "code",
   "execution_count": null,
   "id": "432b3af8-68e8-4332-87ca-17a6c1e01e54",
   "metadata": {},
   "outputs": [],
   "source": []
  }
 ],
 "metadata": {
  "kernelspec": {
   "display_name": "Python 3 (ipykernel)",
   "language": "python",
   "name": "python3"
  },
  "language_info": {
   "codemirror_mode": {
    "name": "ipython",
    "version": 3
   },
   "file_extension": ".py",
   "mimetype": "text/x-python",
   "name": "python",
   "nbconvert_exporter": "python",
   "pygments_lexer": "ipython3",
   "version": "3.11.9"
  }
 },
 "nbformat": 4,
 "nbformat_minor": 5
}
