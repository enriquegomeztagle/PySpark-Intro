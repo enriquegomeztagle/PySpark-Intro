{
 "cells": [
  {
   "cell_type": "markdown",
   "id": "11a4a8cc-ee40-48db-8b83-73604837bd3c",
   "metadata": {},
   "source": [
    "### Ejercicio 7 :\n",
    "- [x] Generar un DataFrame agrupado por edad\n",
    "- [x] Mostrar las descriptivas del DataFrame\n",
    "- [x] Generar una tabla pivote a partir del DataFrame\n",
    "- [x] Generar 2 DataFrame\n",
    "- [x] Unir los 2 DataFrame tipo interno\n",
    "- [x] Unir los 2 DataFrame tipo externo\n",
    "- [x] Unir los 2 DataFrame natural"
   ]
  },
  {
   "cell_type": "code",
   "execution_count": 1,
   "id": "09bd9be7-92cc-4d00-aa39-f151408aacde",
   "metadata": {},
   "outputs": [
    {
     "name": "stderr",
     "output_type": "stream",
     "text": [
      "24/07/26 12:55:31 WARN Utils: Your hostname, Macbook-Air-31.local resolves to a loopback address: 127.0.0.1; using 192.168.68.102 instead (on interface en0)\n",
      "24/07/26 12:55:31 WARN Utils: Set SPARK_LOCAL_IP if you need to bind to another address\n",
      "Setting default log level to \"WARN\".\n",
      "To adjust logging level use sc.setLogLevel(newLevel). For SparkR, use setLogLevel(newLevel).\n",
      "24/07/26 12:55:31 WARN NativeCodeLoader: Unable to load native-hadoop library for your platform... using builtin-java classes where applicable\n"
     ]
    }
   ],
   "source": [
    "from pyspark.sql import SparkSession\n",
    "from pyspark.sql.functions import col, avg, count\n",
    "\n",
    "spark = SparkSession.builder \\\n",
    "    .appName(\"Exercise7\") \\\n",
    "    .getOrCreate()\n"
   ]
  },
  {
   "cell_type": "code",
   "execution_count": 2,
   "id": "405850de-d6f3-49e3-b511-e7a7004f7d4f",
   "metadata": {},
   "outputs": [],
   "source": [
    "schema = \"Name STRING, Age INT, Gender STRING\"\n",
    "\n",
    "data = [\n",
    "    (\"David\", 19, \"M\"),\n",
    "    (\"Mark\", 25, \"M\"),\n",
    "    (\"Shirley\", 22, \"F\"),\n",
    "    (\"Jasmine\", 50, \"F\")\n",
    "]\n",
    "\n",
    "df = spark.createDataFrame(data, schema)"
   ]
  },
  {
   "cell_type": "code",
   "execution_count": 3,
   "id": "99267196-c110-47e6-a531-daf0f57892f1",
   "metadata": {},
   "outputs": [
    {
     "name": "stdout",
     "output_type": "stream",
     "text": [
      "Grouped by Age:\n"
     ]
    },
    {
     "name": "stderr",
     "output_type": "stream",
     "text": [
      "                                                                                \r"
     ]
    },
    {
     "name": "stdout",
     "output_type": "stream",
     "text": [
      "+---+-----+\n",
      "|Age|count|\n",
      "+---+-----+\n",
      "| 19|    1|\n",
      "| 25|    1|\n",
      "| 22|    1|\n",
      "| 50|    1|\n",
      "+---+-----+\n",
      "\n"
     ]
    }
   ],
   "source": [
    "df_grouped = df.groupBy('Age').count()\n",
    "print(\"Grouped by Age:\")\n",
    "df_grouped.show()"
   ]
  },
  {
   "cell_type": "code",
   "execution_count": 4,
   "id": "700b3fd0-c483-49bc-b8ce-fbe4328d1e34",
   "metadata": {},
   "outputs": [
    {
     "name": "stdout",
     "output_type": "stream",
     "text": [
      "DF descriptives\n",
      "+-------+------------------+-----+\n",
      "|summary|               Age|count|\n",
      "+-------+------------------+-----+\n",
      "|  count|                 4|    4|\n",
      "|   mean|              29.0|  1.0|\n",
      "| stddev|14.212670403551895|  0.0|\n",
      "|    min|                19|    1|\n",
      "|    max|                50|    1|\n",
      "+-------+------------------+-----+\n",
      "\n"
     ]
    }
   ],
   "source": [
    "print(\"DF descriptives\")\n",
    "df_grouped.describe().show()"
   ]
  },
  {
   "cell_type": "code",
   "execution_count": 5,
   "id": "368afebf-94d4-446e-88c6-6667887ab049",
   "metadata": {},
   "outputs": [
    {
     "name": "stdout",
     "output_type": "stream",
     "text": [
      "Pivot Table:\n",
      "+------+----+----+----+----+\n",
      "|Gender|  19|  22|  25|  50|\n",
      "+------+----+----+----+----+\n",
      "|     F|NULL|   1|NULL|   1|\n",
      "|     M|   1|NULL|   1|NULL|\n",
      "+------+----+----+----+----+\n",
      "\n"
     ]
    }
   ],
   "source": [
    "df_pivot = df.groupBy(\"Gender\").pivot(\"Age\").count()\n",
    "print(\"Pivot Table:\")\n",
    "df_pivot.show()"
   ]
  },
  {
   "cell_type": "code",
   "execution_count": 6,
   "id": "2ffda64d-9bd7-4110-8bc7-e826e3714266",
   "metadata": {},
   "outputs": [
    {
     "name": "stdout",
     "output_type": "stream",
     "text": [
      "DataFrame 1:\n",
      "+-------+---+------+\n",
      "|   Name|Age|Gender|\n",
      "+-------+---+------+\n",
      "|  David| 19|     M|\n",
      "|   Mark| 25|     M|\n",
      "|Shirley| 22|     F|\n",
      "+-------+---+------+\n",
      "\n",
      "DataFrame 2:\n",
      "+-------+---+------+\n",
      "|   Name|Age|Gender|\n",
      "+-------+---+------+\n",
      "|Jasmine| 50|     F|\n",
      "|   John| 35|     M|\n",
      "|Shirley| 22|     F|\n",
      "+-------+---+------+\n",
      "\n"
     ]
    }
   ],
   "source": [
    "data1 = [\n",
    "    (\"David\", 19, \"M\"),\n",
    "    (\"Mark\", 25, \"M\"),\n",
    "    (\"Shirley\", 22, \"F\")\n",
    "]\n",
    "\n",
    "data2 = [\n",
    "    (\"Jasmine\", 50, \"F\"),\n",
    "    (\"John\", 35, \"M\"),\n",
    "    (\"Shirley\", 22, \"F\")\n",
    "]\n",
    "\n",
    "df1 = spark.createDataFrame(data1, schema)\n",
    "df2 = spark.createDataFrame(data2, schema)\n",
    "\n",
    "print(\"DataFrame 1:\")\n",
    "df1.show()\n",
    "\n",
    "print(\"DataFrame 2:\")\n",
    "df2.show()"
   ]
  },
  {
   "cell_type": "code",
   "execution_count": 7,
   "id": "c1e34d74-a333-454f-9dd7-545d5e2f091b",
   "metadata": {},
   "outputs": [
    {
     "name": "stdout",
     "output_type": "stream",
     "text": [
      "Inner join:\n",
      "+-------+---+------+---+------+\n",
      "|   Name|Age|Gender|Age|Gender|\n",
      "+-------+---+------+---+------+\n",
      "|Shirley| 22|     F| 22|     F|\n",
      "+-------+---+------+---+------+\n",
      "\n"
     ]
    }
   ],
   "source": [
    "df_inner = df1.join(df2, on=\"Name\", how=\"inner\")\n",
    "print(\"Inner join:\")\n",
    "df_inner.show()"
   ]
  },
  {
   "cell_type": "code",
   "execution_count": 8,
   "id": "3e3e8fe1-20b8-40f5-b684-d9c5662488b4",
   "metadata": {},
   "outputs": [
    {
     "name": "stdout",
     "output_type": "stream",
     "text": [
      "Outer Join:\n",
      "+-------+----+------+----+------+\n",
      "|   Name| Age|Gender| Age|Gender|\n",
      "+-------+----+------+----+------+\n",
      "|  David|  19|     M|NULL|  NULL|\n",
      "|Jasmine|NULL|  NULL|  50|     F|\n",
      "|   John|NULL|  NULL|  35|     M|\n",
      "|   Mark|  25|     M|NULL|  NULL|\n",
      "|Shirley|  22|     F|  22|     F|\n",
      "+-------+----+------+----+------+\n",
      "\n"
     ]
    }
   ],
   "source": [
    "df_outer = df1.join(df2, on=\"Name\", how=\"outer\")\n",
    "print(\"Outer Join:\")\n",
    "df_outer.show()"
   ]
  },
  {
   "cell_type": "code",
   "execution_count": 9,
   "id": "77b17f62-5b2d-4311-bd68-653bb82f3f44",
   "metadata": {},
   "outputs": [
    {
     "name": "stdout",
     "output_type": "stream",
     "text": [
      "Natural join:\n",
      "+-------+---+------+\n",
      "|   Name|Age|Gender|\n",
      "+-------+---+------+\n",
      "|Shirley| 22|     F|\n",
      "+-------+---+------+\n",
      "\n"
     ]
    }
   ],
   "source": [
    "common_cols = [col for col in df1.columns if col in df2.columns]\n",
    "\n",
    "df_natural = df1.join(df2, on=common_cols, how=\"inner\")\n",
    "print(\"Natural join:\")\n",
    "df_natural.show()"
   ]
  },
  {
   "cell_type": "code",
   "execution_count": 10,
   "id": "c7ea9cc3-c1b0-4293-a8e8-8431273a50b9",
   "metadata": {},
   "outputs": [],
   "source": [
    "spark.stop()"
   ]
  }
 ],
 "metadata": {
  "kernelspec": {
   "display_name": "Python 3 (ipykernel)",
   "language": "python",
   "name": "python3"
  },
  "language_info": {
   "codemirror_mode": {
    "name": "ipython",
    "version": 3
   },
   "file_extension": ".py",
   "mimetype": "text/x-python",
   "name": "python",
   "nbconvert_exporter": "python",
   "pygments_lexer": "ipython3",
   "version": "3.11.9"
  }
 },
 "nbformat": 4,
 "nbformat_minor": 5
}
