{
 "cells": [
  {
   "cell_type": "markdown",
   "metadata": {},
   "source": [
    "#### Ejercicio 4 :\n",
    "- [x] Leer tabla de base de datos postgreSql mediante jdbe\n",
    "- [x] Escribir tabla en base de datos postgreSql mediante jdbc"
   ]
  },
  {
   "cell_type": "code",
   "execution_count": 74,
   "metadata": {},
   "outputs": [],
   "source": [
    "%run init_spark.py"
   ]
  },
  {
   "cell_type": "code",
   "execution_count": 75,
   "metadata": {},
   "outputs": [],
   "source": [
    "jdbc_url = \"jdbc:postgresql://localhost:5432/sparkdb\"\n",
    "\n",
    "connection_properties = {\n",
    "    \"user\": \"sparkuser\",\n",
    "    \"password\": \"sparkpassword\",\n",
    "    \"driver\": \"org.postgresql.Driver\"\n",
    "}"
   ]
  },
  {
   "cell_type": "code",
   "execution_count": 76,
   "metadata": {},
   "outputs": [
    {
     "name": "stdout",
     "output_type": "stream",
     "text": [
      "+---+-------+---+------+\n",
      "| id|   name|age|gender|\n",
      "+---+-------+---+------+\n",
      "|  1|Charlie| 28|     M|\n",
      "|  2|  Diana| 22|     F|\n",
      "+---+-------+---+------+\n",
      "\n"
     ]
    }
   ],
   "source": [
    "try:\n",
    "    df = spark.read.jdbc(url=jdbc_url, table=\"people\", properties=connection_properties)\n",
    "except Exception as e:\n",
    "    print(f\"Error: {e}\")\n",
    "\n",
    "# Ordenar el DataFrame por la columna 'id'\n",
    "df_ordered = df.orderBy(\"id\")\n",
    "df_ordered.show()"
   ]
  },
  {
   "cell_type": "code",
   "execution_count": 77,
   "metadata": {},
   "outputs": [],
   "source": [
    "new_data = [(\"Charlie\", 28, \"M\"), (\"Diana\", 22, \"F\")]\n",
    "columns = [\"name\", \"age\", \"gender\"]\n",
    "\n",
    "new_df = spark.createDataFrame(new_data, columns)"
   ]
  },
  {
   "cell_type": "code",
   "execution_count": 78,
   "metadata": {},
   "outputs": [
    {
     "name": "stdout",
     "output_type": "stream",
     "text": [
      "Data written successfully.\n"
     ]
    }
   ],
   "source": [
    "try:\n",
    "    new_df.write.jdbc(url=jdbc_url, table=\"people\", mode=\"append\", properties=connection_properties)\n",
    "    print(\"Data written successfully.\")\n",
    "except Exception as e:\n",
    "    print(f\"Error: {e}\")"
   ]
  },
  {
   "cell_type": "code",
   "execution_count": 79,
   "metadata": {},
   "outputs": [
    {
     "name": "stdout",
     "output_type": "stream",
     "text": [
      "+---+-------+---+------+\n",
      "| id|   name|age|gender|\n",
      "+---+-------+---+------+\n",
      "|  1|Charlie| 28|     M|\n",
      "|  2|  Diana| 22|     F|\n",
      "|  3|Charlie| 28|     M|\n",
      "|  4|  Diana| 22|     F|\n",
      "+---+-------+---+------+\n",
      "\n"
     ]
    }
   ],
   "source": [
    "try:\n",
    "    df = spark.read.jdbc(url=jdbc_url, table=\"people\", properties=connection_properties)\n",
    "except Exception as e:\n",
    "    print(f\"Error: {e}\")\n",
    "\n",
    "df_ordered = df.orderBy(\"id\")\n",
    "df_ordered.show()"
   ]
  },
  {
   "cell_type": "code",
   "execution_count": 80,
   "metadata": {},
   "outputs": [],
   "source": [
    "# %pip install jaydebeapi\n",
    "import jaydebeapi"
   ]
  },
  {
   "cell_type": "code",
   "execution_count": 81,
   "metadata": {},
   "outputs": [
    {
     "name": "stdout",
     "output_type": "stream",
     "text": [
      "Todos los registros de la tabla 'people' han sido eliminados y la secuencia ha sido reiniciada.\n"
     ]
    }
   ],
   "source": [
    "try:\n",
    "    conn = jaydebeapi.connect(\n",
    "        connection_properties[\"driver\"],\n",
    "        jdbc_url,\n",
    "        [connection_properties[\"user\"], connection_properties[\"password\"]],\n",
    "        jdbc_jar_path\n",
    "    )\n",
    "    conn.jconn.setAutoCommit(False)  # Deshabilitar auto-commit\n",
    "    curs = conn.cursor()\n",
    "    \n",
    "    # Eliminar todos los registros de la tabla 'people'\n",
    "    delete_query = \"DELETE FROM people\"\n",
    "    curs.execute(delete_query)\n",
    "    \n",
    "    # Reiniciar la secuencia de 'id' a 1\n",
    "    reset_sequence_query = \"ALTER SEQUENCE people_id_seq RESTART WITH 1\"\n",
    "    curs.execute(reset_sequence_query)\n",
    "    \n",
    "    conn.commit()\n",
    "    curs.close()\n",
    "    conn.close()\n",
    "    print(\"Todos los registros de la tabla 'people' han sido eliminados y la secuencia ha sido reiniciada.\")\n",
    "except Exception as e:\n",
    "    print(f\"Error: {e}\")"
   ]
  },
  {
   "cell_type": "code",
   "execution_count": null,
   "metadata": {},
   "outputs": [],
   "source": []
  }
 ],
 "metadata": {
  "kernelspec": {
   "display_name": "data",
   "language": "python",
   "name": "python3"
  },
  "language_info": {
   "codemirror_mode": {
    "name": "ipython",
    "version": 3
   },
   "file_extension": ".py",
   "mimetype": "text/x-python",
   "name": "python",
   "nbconvert_exporter": "python",
   "pygments_lexer": "ipython3",
   "version": "3.11.9"
  }
 },
 "nbformat": 4,
 "nbformat_minor": 2
}
