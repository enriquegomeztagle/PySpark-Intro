{
 "cells": [
  {
   "cell_type": "markdown",
   "id": "33f63636-e993-4e9a-aa4c-11a825f5f991",
   "metadata": {},
   "source": [
    "## Ejercicio 1 :\n",
    "- [x] Iniciar sesión  spark y sql spark\n",
    "- [x] Crear DataFrame con una lista de 20 registros que contenga\n",
    "    - [x] Nombre\n",
    "    - [x] Edad\n",
    "    - [x] Género\n",
    "- [x] Desplegar el DataFrame \n",
    "- [x] Filtrar los que en edad sean mayor a 30\n",
    "- [x] Transformar en un DataFrame nuevo \n",
    "- [x] Desplegar DataFrame nuevo \n",
    "- [x] Cerrar sesión de spark\n"
   ]
  },
  {
   "cell_type": "code",
   "execution_count": 9,
   "id": "1ab74f70-f593-4681-bad9-7a4109f1a5f7",
   "metadata": {},
   "outputs": [
    {
     "name": "stderr",
     "output_type": "stream",
     "text": [
      "24/07/26 12:46:12 WARN Utils: Service 'SparkUI' could not bind on port 4040. Attempting port 4041.\n"
     ]
    }
   ],
   "source": [
    "from pyspark.sql import SparkSession      # Start Spark Session + SQL Spark\n",
    "\n",
    "spark = SparkSession.builder \\\n",
    ".appName(\"Exercise1\") \\\n",
    ".getOrCreate()"
   ]
  },
  {
   "cell_type": "code",
   "execution_count": 10,
   "id": "4b091bd0-cd7c-4b30-86bb-45861b9c8815",
   "metadata": {},
   "outputs": [],
   "source": [
    "# %pip install faker\n",
    "from faker import Faker       # Create synthetic registers\n",
    "import pandas as pd\n",
    "\n",
    "fake = Faker()       # Create Faker Instance\n",
    "\n",
    "data = []      # Generate synth data\n",
    "\n",
    "for _ in range(20):\n",
    "    name = fake.first_name()\n",
    "    age = fake.random_int(min=15, max=60)\n",
    "    gender = fake.random_element(elements=(\"M\", \"F\"))\n",
    "    data.append({\"Name\": name, \"Age\": age, \"Gender\": gender})\n",
    "\n",
    "df_pd = pd.DataFrame(data)      # Convert to df\n",
    "df = spark.createDataFrame(df_pd)      # Generate Spark DF based on pandas DF\n"
   ]
  },
  {
   "cell_type": "code",
   "execution_count": 11,
   "id": "df029ed2-1aa0-4e96-b005-6dde220c6678",
   "metadata": {},
   "outputs": [
    {
     "name": "stdout",
     "output_type": "stream",
     "text": [
      "+---------+---+------+\n",
      "|     Name|Age|Gender|\n",
      "+---------+---+------+\n",
      "|    Nancy| 17|     M|\n",
      "|   Robert| 21|     F|\n",
      "|Christine| 41|     F|\n",
      "|     Mary| 51|     F|\n",
      "|     Ruth| 18|     M|\n",
      "|     Paul| 20|     F|\n",
      "|  Michael| 57|     M|\n",
      "|   Darius| 45|     M|\n",
      "|  Melissa| 35|     F|\n",
      "|Nathaniel| 36|     F|\n",
      "|  Whitney| 20|     M|\n",
      "|Katherine| 41|     F|\n",
      "|Christina| 51|     M|\n",
      "|   Robert| 20|     F|\n",
      "|   Nicole| 39|     F|\n",
      "|   Amanda| 44|     F|\n",
      "|   Gerald| 22|     M|\n",
      "| Jennifer| 37|     M|\n",
      "|Elizabeth| 40|     F|\n",
      "|  Kaitlyn| 56|     F|\n",
      "+---------+---+------+\n",
      "\n"
     ]
    }
   ],
   "source": [
    "df.show()      # View DF"
   ]
  },
  {
   "cell_type": "code",
   "execution_count": 12,
   "id": "c45e3b67-a643-4aea-a883-285402c103a6",
   "metadata": {},
   "outputs": [],
   "source": [
    "df_filtered = df.filter(df.Age>30)       #Filter registers with age above 30"
   ]
  },
  {
   "cell_type": "code",
   "execution_count": 13,
   "id": "05d1a735-7226-46fb-9927-913b2f38abdd",
   "metadata": {},
   "outputs": [
    {
     "name": "stdout",
     "output_type": "stream",
     "text": [
      "+---------+---+------+\n",
      "|     Name|Age|Gender|\n",
      "+---------+---+------+\n",
      "|Christine| 41|     F|\n",
      "|     Mary| 51|     F|\n",
      "|  Michael| 57|     M|\n",
      "|   Darius| 45|     M|\n",
      "|  Melissa| 35|     F|\n",
      "|Nathaniel| 36|     F|\n",
      "|Katherine| 41|     F|\n",
      "|Christina| 51|     M|\n",
      "|   Nicole| 39|     F|\n",
      "|   Amanda| 44|     F|\n",
      "| Jennifer| 37|     M|\n",
      "|Elizabeth| 40|     F|\n",
      "|  Kaitlyn| 56|     F|\n",
      "+---------+---+------+\n",
      "\n"
     ]
    }
   ],
   "source": [
    "df_filtered.show()      # View df"
   ]
  },
  {
   "cell_type": "code",
   "execution_count": 14,
   "id": "9a256772-3ff5-426c-8c3a-84ffd5b9eb2e",
   "metadata": {},
   "outputs": [],
   "source": [
    "spark.stop()       # Finish session"
   ]
  },
  {
   "cell_type": "code",
   "execution_count": null,
   "id": "1711c134",
   "metadata": {},
   "outputs": [],
   "source": []
  }
 ],
 "metadata": {
  "kernelspec": {
   "display_name": "Python 3 (ipykernel)",
   "language": "python",
   "name": "python3"
  },
  "language_info": {
   "codemirror_mode": {
    "name": "ipython",
    "version": 3
   },
   "file_extension": ".py",
   "mimetype": "text/x-python",
   "name": "python",
   "nbconvert_exporter": "python",
   "pygments_lexer": "ipython3",
   "version": "3.11.9"
  }
 },
 "nbformat": 4,
 "nbformat_minor": 5
}
