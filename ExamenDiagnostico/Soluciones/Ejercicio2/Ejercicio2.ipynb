{
 "cells": [
  {
   "cell_type": "markdown",
   "id": "13f6abb6-355c-4854-b591-cd891d647b10",
   "metadata": {},
   "source": [
    "### Ejercicio 2 :\n",
    "- [x] Seleccionar columnas del DataFrame\n",
    "- [x] Desplegar DataFrame\n",
    "- [x] Adicionar columnas a DataFrame\n",
    "- [x] Desplegar DataFrame\n",
    "- [x] Ordenar DataFrame\n",
    "- [x] Desplegar DataFrame\n",
    "- [x] Agrupación por la columna género y agregación de datos por la columna edad en el DataFrame\n",
    "- [x] Desplegar DataFrame"
   ]
  },
  {
   "cell_type": "code",
   "execution_count": 1,
   "id": "08ae1230-2649-48e6-8153-433ceb74059f",
   "metadata": {},
   "outputs": [
    {
     "name": "stderr",
     "output_type": "stream",
     "text": [
      "24/07/26 12:46:31 WARN Utils: Your hostname, Macbook-Air-31.local resolves to a loopback address: 127.0.0.1; using 192.168.68.102 instead (on interface en0)\n",
      "24/07/26 12:46:31 WARN Utils: Set SPARK_LOCAL_IP if you need to bind to another address\n",
      "Setting default log level to \"WARN\".\n",
      "To adjust logging level use sc.setLogLevel(newLevel). For SparkR, use setLogLevel(newLevel).\n",
      "24/07/26 12:46:31 WARN NativeCodeLoader: Unable to load native-hadoop library for your platform... using builtin-java classes where applicable\n"
     ]
    }
   ],
   "source": [
    "from pyspark.sql import SparkSession\n",
    "\n",
    "spark = SparkSession.builder \\\n",
    "    .appName(\"Exercise2\") \\\n",
    "    .getOrCreate()\n",
    "\n",
    "from faker import Faker\n",
    "import pandas as pd\n",
    "\n",
    "fake = Faker()\n",
    "\n",
    "data = []\n",
    "\n",
    "for _ in range(20):\n",
    "    name = fake.first_name()\n",
    "    age = fake.random_int(min=15, max=60)\n",
    "    gender = fake.random_element(elements=(\"M\", \"F\"))\n",
    "    data.append({\"Name\": name, \"Age\": age, \"Gender\": gender})\n",
    "\n",
    "df_pd = pd.DataFrame(data)\n",
    "df = spark.createDataFrame(df_pd)"
   ]
  },
  {
   "cell_type": "code",
   "execution_count": 2,
   "id": "09d82c33-b1f7-4b43-a024-77ea1217136e",
   "metadata": {},
   "outputs": [],
   "source": [
    "df_selected = df.select(\"Name\", \"Gender\")       # Select First and Last column of df"
   ]
  },
  {
   "cell_type": "code",
   "execution_count": 3,
   "id": "5067be63-9fd3-4ae8-bcbb-f785538e4530",
   "metadata": {},
   "outputs": [
    {
     "name": "stderr",
     "output_type": "stream",
     "text": [
      "                                                                                \r"
     ]
    },
    {
     "name": "stdout",
     "output_type": "stream",
     "text": [
      "+--------+------+\n",
      "|    Name|Gender|\n",
      "+--------+------+\n",
      "|   Karen|     M|\n",
      "| Deborah|     M|\n",
      "|  Nicole|     M|\n",
      "|   Tammy|     M|\n",
      "|  Mathew|     M|\n",
      "| Jeffrey|     M|\n",
      "|  Jeremy|     F|\n",
      "| Brandon|     M|\n",
      "| Matthew|     M|\n",
      "|   Debra|     M|\n",
      "|   Bryan|     M|\n",
      "|   Mario|     M|\n",
      "| Tiffany|     M|\n",
      "|Nicholas|     M|\n",
      "|    Tony|     F|\n",
      "|  Marcus|     M|\n",
      "| Yolanda|     F|\n",
      "|  Leslie|     M|\n",
      "|   Erika|     M|\n",
      "|  Travis|     M|\n",
      "+--------+------+\n",
      "\n"
     ]
    }
   ],
   "source": [
    "df_selected.show()       # View DF"
   ]
  },
  {
   "cell_type": "code",
   "execution_count": 4,
   "id": "250c6aa2-916f-4476-82f2-3a115fd76220",
   "metadata": {},
   "outputs": [],
   "source": [
    "from pyspark.sql.functions import col, lit\n",
    "df_new_col = df.withColumn(\"Active\", lit(True))    # Add new is active column"
   ]
  },
  {
   "cell_type": "code",
   "execution_count": 5,
   "id": "2f08bde1-8a88-4ba6-adac-25b212c59b23",
   "metadata": {},
   "outputs": [
    {
     "name": "stdout",
     "output_type": "stream",
     "text": [
      "+--------+---+------+------+\n",
      "|    Name|Age|Gender|Active|\n",
      "+--------+---+------+------+\n",
      "|   Karen| 60|     M|  true|\n",
      "| Deborah| 59|     M|  true|\n",
      "|  Nicole| 40|     M|  true|\n",
      "|   Tammy| 16|     M|  true|\n",
      "|  Mathew| 49|     M|  true|\n",
      "| Jeffrey| 41|     M|  true|\n",
      "|  Jeremy| 48|     F|  true|\n",
      "| Brandon| 55|     M|  true|\n",
      "| Matthew| 47|     M|  true|\n",
      "|   Debra| 23|     M|  true|\n",
      "|   Bryan| 26|     M|  true|\n",
      "|   Mario| 60|     M|  true|\n",
      "| Tiffany| 16|     M|  true|\n",
      "|Nicholas| 17|     M|  true|\n",
      "|    Tony| 50|     F|  true|\n",
      "|  Marcus| 60|     M|  true|\n",
      "| Yolanda| 36|     F|  true|\n",
      "|  Leslie| 43|     M|  true|\n",
      "|   Erika| 53|     M|  true|\n",
      "|  Travis| 45|     M|  true|\n",
      "+--------+---+------+------+\n",
      "\n"
     ]
    }
   ],
   "source": [
    "df_new_col.show()    # View DF"
   ]
  },
  {
   "cell_type": "code",
   "execution_count": 6,
   "id": "05789681-9204-4d83-81fb-d0c50c81b2bf",
   "metadata": {},
   "outputs": [],
   "source": [
    "df_sorted = df_new_col.orderBy(col(\"Age\").desc())    # Sort DF by Age DESC"
   ]
  },
  {
   "cell_type": "code",
   "execution_count": 7,
   "id": "01eee9c5-22a5-4002-b342-7348715ffa98",
   "metadata": {},
   "outputs": [
    {
     "name": "stdout",
     "output_type": "stream",
     "text": [
      "+--------+---+------+------+\n",
      "|    Name|Age|Gender|Active|\n",
      "+--------+---+------+------+\n",
      "|   Mario| 60|     M|  true|\n",
      "|  Marcus| 60|     M|  true|\n",
      "|   Karen| 60|     M|  true|\n",
      "| Deborah| 59|     M|  true|\n",
      "| Brandon| 55|     M|  true|\n",
      "|   Erika| 53|     M|  true|\n",
      "|    Tony| 50|     F|  true|\n",
      "|  Mathew| 49|     M|  true|\n",
      "|  Jeremy| 48|     F|  true|\n",
      "| Matthew| 47|     M|  true|\n",
      "|  Travis| 45|     M|  true|\n",
      "|  Leslie| 43|     M|  true|\n",
      "| Jeffrey| 41|     M|  true|\n",
      "|  Nicole| 40|     M|  true|\n",
      "| Yolanda| 36|     F|  true|\n",
      "|   Bryan| 26|     M|  true|\n",
      "|   Debra| 23|     M|  true|\n",
      "|Nicholas| 17|     M|  true|\n",
      "|   Tammy| 16|     M|  true|\n",
      "| Tiffany| 16|     M|  true|\n",
      "+--------+---+------+------+\n",
      "\n"
     ]
    }
   ],
   "source": [
    "df_sorted.show()    # View DF"
   ]
  },
  {
   "cell_type": "code",
   "execution_count": 8,
   "id": "13be64e3-5f1e-4da2-98aa-a88865c85cf9",
   "metadata": {},
   "outputs": [],
   "source": [
    "from pyspark.sql.functions import sum as _sum, avg        # renamed due to conf with native python func\n",
    "\n",
    "df_grouped = df.groupBy(\"Gender\").agg(\n",
    "    _sum(\"Age\").alias(\"SumAge\"),\n",
    "    avg(\"Age\").alias(\"AvgAge\")\n",
    ")"
   ]
  },
  {
   "cell_type": "code",
   "execution_count": 9,
   "id": "992bbf67-3a2b-4734-b21b-812fe9c33b55",
   "metadata": {},
   "outputs": [
    {
     "name": "stdout",
     "output_type": "stream",
     "text": [
      "+------+------+------------------+\n",
      "|Gender|SumAge|            AvgAge|\n",
      "+------+------+------------------+\n",
      "|     M|   710| 41.76470588235294|\n",
      "|     F|   134|44.666666666666664|\n",
      "+------+------+------------------+\n",
      "\n"
     ]
    }
   ],
   "source": [
    "df_grouped.show()       # View DF"
   ]
  },
  {
   "cell_type": "code",
   "execution_count": null,
   "id": "21a2e12a-5f98-4197-b530-7307439a93cc",
   "metadata": {},
   "outputs": [],
   "source": []
  }
 ],
 "metadata": {
  "kernelspec": {
   "display_name": "Python 3 (ipykernel)",
   "language": "python",
   "name": "python3"
  },
  "language_info": {
   "codemirror_mode": {
    "name": "ipython",
    "version": 3
   },
   "file_extension": ".py",
   "mimetype": "text/x-python",
   "name": "python",
   "nbconvert_exporter": "python",
   "pygments_lexer": "ipython3",
   "version": "3.11.9"
  }
 },
 "nbformat": 4,
 "nbformat_minor": 5
}
