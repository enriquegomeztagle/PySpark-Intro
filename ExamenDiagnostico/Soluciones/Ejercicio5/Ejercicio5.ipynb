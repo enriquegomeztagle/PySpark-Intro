{
 "cells": [
  {
   "cell_type": "markdown",
   "id": "9f414747-2bb6-4ab4-93ee-8e54fe2a1c94",
   "metadata": {},
   "source": [
    "### Ejercicio 5 :\n",
    "- [x] Integrar librerías necesarias\n",
    "- [x] Definición de un esquema\n",
    "- [x] Crear DataFrame de Esquema\n",
    "- [x] Cambiar nombre de columnas \n",
    "- [x] Mostrar DataFrame\n",
    "- [x] Eliminar columnas \n",
    "- [x] Mostrar DataFrame\n",
    "- [x] Filtrar valores nulos\n",
    "- [x] Reemplazar valores numéricos nulos a 0\n",
    "- [x] Eliminar valores nulos"
   ]
  },
  {
   "cell_type": "code",
   "execution_count": 1,
   "id": "adec6b23-9ec2-4e65-b065-a4ade86d1828",
   "metadata": {},
   "outputs": [],
   "source": [
    "from pyspark.sql import SparkSession\n",
    "from pyspark.sql.types import StructType, StructField, StringType, IntegerType\n",
    "from pyspark.sql.functions import col, when"
   ]
  },
  {
   "cell_type": "code",
   "execution_count": 2,
   "id": "5e361968-a943-4f1f-92bc-102b84248662",
   "metadata": {},
   "outputs": [],
   "source": [
    "schema = StructType([\n",
    "    StructField(\"Name\", StringType(), True),\n",
    "    StructField(\"Age\", IntegerType(), True),\n",
    "    StructField(\"Gender\", StringType(), True)\n",
    "])"
   ]
  },
  {
   "cell_type": "code",
   "execution_count": 3,
   "id": "0dcb691e-0d5e-4f88-b55d-840371c94db4",
   "metadata": {},
   "outputs": [],
   "source": [
    "data = [\n",
    "    (\"David\", 19, \"M\"),\n",
    "    (\"Mark\", 25, \"M\"),\n",
    "    (\"Shirley\", None, \"F\"),\n",
    "    (\"Jasmine\", 50, None),\n",
    "    (\"John\", None, None)\n",
    "]"
   ]
  },
  {
   "cell_type": "code",
   "execution_count": 4,
   "id": "74fd12fe-e345-4b02-bde4-b67843ddceed",
   "metadata": {},
   "outputs": [
    {
     "name": "stderr",
     "output_type": "stream",
     "text": [
      "24/07/26 12:54:37 WARN Utils: Your hostname, Macbook-Air-31.local resolves to a loopback address: 127.0.0.1; using 192.168.68.102 instead (on interface en0)\n",
      "24/07/26 12:54:37 WARN Utils: Set SPARK_LOCAL_IP if you need to bind to another address\n",
      "Setting default log level to \"WARN\".\n",
      "To adjust logging level use sc.setLogLevel(newLevel). For SparkR, use setLogLevel(newLevel).\n",
      "24/07/26 12:54:37 WARN NativeCodeLoader: Unable to load native-hadoop library for your platform... using builtin-java classes where applicable\n"
     ]
    }
   ],
   "source": [
    "spark = SparkSession.builder \\\n",
    "    .appName(\"Exercise5\") \\\n",
    "    .getOrCreate()"
   ]
  },
  {
   "cell_type": "code",
   "execution_count": 5,
   "id": "0d62d5e1-5a2b-47c7-ae94-b2cab1eb85f3",
   "metadata": {},
   "outputs": [],
   "source": [
    "df = spark.createDataFrame(data, schema)"
   ]
  },
  {
   "cell_type": "code",
   "execution_count": 6,
   "id": "1b42f760-a75e-4d76-b851-367aa7a21024",
   "metadata": {},
   "outputs": [
    {
     "name": "stderr",
     "output_type": "stream",
     "text": [
      "                                                                                \r"
     ]
    },
    {
     "name": "stdout",
     "output_type": "stream",
     "text": [
      "+-------+----+------+\n",
      "|   Name| Age|Gender|\n",
      "+-------+----+------+\n",
      "|  David|  19|     M|\n",
      "|   Mark|  25|     M|\n",
      "|Shirley|NULL|     F|\n",
      "|Jasmine|  50|  NULL|\n",
      "|   John|NULL|  NULL|\n",
      "+-------+----+------+\n",
      "\n"
     ]
    }
   ],
   "source": [
    "df.show()"
   ]
  },
  {
   "cell_type": "code",
   "execution_count": 7,
   "id": "7c529537-d5d6-4551-8450-368623e1972d",
   "metadata": {},
   "outputs": [
    {
     "name": "stdout",
     "output_type": "stream",
     "text": [
      "+--------+-----+------+\n",
      "|FullName|Years|Gender|\n",
      "+--------+-----+------+\n",
      "|   David|   19|     M|\n",
      "|    Mark|   25|     M|\n",
      "| Shirley| NULL|     F|\n",
      "| Jasmine|   50|  NULL|\n",
      "|    John| NULL|  NULL|\n",
      "+--------+-----+------+\n",
      "\n"
     ]
    }
   ],
   "source": [
    "df_renamed = df.withColumnRenamed(\"Name\", \"FullName\").withColumnRenamed(\"Age\", \"Years\")\n",
    "df_renamed.show()"
   ]
  },
  {
   "cell_type": "code",
   "execution_count": 8,
   "id": "55b0559b-de5a-40a0-b6b5-17ed92c2d37b",
   "metadata": {},
   "outputs": [
    {
     "name": "stdout",
     "output_type": "stream",
     "text": [
      "+--------+-----+\n",
      "|FullName|Years|\n",
      "+--------+-----+\n",
      "|   David|   19|\n",
      "|    Mark|   25|\n",
      "| Shirley| NULL|\n",
      "| Jasmine|   50|\n",
      "|    John| NULL|\n",
      "+--------+-----+\n",
      "\n"
     ]
    }
   ],
   "source": [
    "df_dropped = df_renamed.drop(\"Gender\")\n",
    "df_dropped.show()"
   ]
  },
  {
   "cell_type": "code",
   "execution_count": 9,
   "id": "8fa334dd-6dc0-4cf8-bf7a-d4a32f73536c",
   "metadata": {},
   "outputs": [
    {
     "name": "stdout",
     "output_type": "stream",
     "text": [
      "+--------+-----+------+\n",
      "|FullName|Years|Gender|\n",
      "+--------+-----+------+\n",
      "|   David|   19|     M|\n",
      "|    Mark|   25|     M|\n",
      "| Jasmine|   50|  NULL|\n",
      "+--------+-----+------+\n",
      "\n"
     ]
    }
   ],
   "source": [
    "df_filtered = df_renamed.filter(df_renamed.Years.isNotNull())\n",
    "df_filtered.show()"
   ]
  },
  {
   "cell_type": "code",
   "execution_count": 10,
   "id": "9115aca1-7015-4b4b-8ace-64366f68ea4a",
   "metadata": {},
   "outputs": [
    {
     "name": "stdout",
     "output_type": "stream",
     "text": [
      "+--------+-----+------+\n",
      "|FullName|Years|Gender|\n",
      "+--------+-----+------+\n",
      "|   David|   19|     M|\n",
      "|    Mark|   25|     M|\n",
      "| Shirley|    0|     F|\n",
      "| Jasmine|   50|  NULL|\n",
      "|    John|    0|  NULL|\n",
      "+--------+-----+------+\n",
      "\n"
     ]
    }
   ],
   "source": [
    "df_filled = df_renamed.withColumn(\"Years\", when(col(\"Years\").isNull(), 0).otherwise(col(\"Years\")))\n",
    "df_filled.show()"
   ]
  },
  {
   "cell_type": "code",
   "execution_count": 11,
   "id": "65605b17-5b2b-402b-a9b4-f1cd0bb35b71",
   "metadata": {},
   "outputs": [
    {
     "name": "stdout",
     "output_type": "stream",
     "text": [
      "+--------+-----+------+\n",
      "|FullName|Years|Gender|\n",
      "+--------+-----+------+\n",
      "|   David|   19|     M|\n",
      "|    Mark|   25|     M|\n",
      "+--------+-----+------+\n",
      "\n"
     ]
    }
   ],
   "source": [
    "df_no_nulls = df_renamed.na.drop()\n",
    "df_no_nulls.show()"
   ]
  },
  {
   "cell_type": "code",
   "execution_count": 12,
   "id": "c18b6959-7976-4cef-ba58-0b9e88e43a12",
   "metadata": {},
   "outputs": [
    {
     "name": "stdout",
     "output_type": "stream",
     "text": [
      "+--------+-----+------+\n",
      "|FullName|Years|Gender|\n",
      "+--------+-----+------+\n",
      "|   David|   19|     M|\n",
      "|    Mark|   25|     M|\n",
      "| Shirley|    0|     F|\n",
      "| Jasmine|   50|  NULL|\n",
      "|    John|    0|  NULL|\n",
      "+--------+-----+------+\n",
      "\n"
     ]
    }
   ],
   "source": [
    "df_filled.write.csv(\"ej5_csv\", header=True)\n",
    "df_filled.show()"
   ]
  },
  {
   "cell_type": "code",
   "execution_count": 13,
   "id": "6a3c46a9-e129-441e-bc06-a120ecc6fb36",
   "metadata": {},
   "outputs": [],
   "source": [
    "spark.stop()"
   ]
  },
  {
   "cell_type": "code",
   "execution_count": null,
   "id": "16d02ef1-7404-44ad-98b9-ca7b23497da7",
   "metadata": {},
   "outputs": [],
   "source": []
  }
 ],
 "metadata": {
  "kernelspec": {
   "display_name": "Python 3 (ipykernel)",
   "language": "python",
   "name": "python3"
  },
  "language_info": {
   "codemirror_mode": {
    "name": "ipython",
    "version": 3
   },
   "file_extension": ".py",
   "mimetype": "text/x-python",
   "name": "python",
   "nbconvert_exporter": "python",
   "pygments_lexer": "ipython3",
   "version": "3.11.9"
  }
 },
 "nbformat": 4,
 "nbformat_minor": 5
}
